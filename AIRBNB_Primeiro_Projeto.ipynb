{
  "nbformat": 4,
  "nbformat_minor": 0,
  "metadata": {
    "colab": {
      "name": "AIRBNB - Primeiro Projeto",
      "provenance": [],
      "collapsed_sections": [
        "xHcqTjWEVd7S"
      ],
      "authorship_tag": "ABX9TyOB/YApXrwJt2crZRaM/E9r",
      "include_colab_link": true
    },
    "kernelspec": {
      "name": "python3",
      "display_name": "Python 3"
    },
    "language_info": {
      "name": "python"
    }
  },
  "cells": [
    {
      "cell_type": "markdown",
      "metadata": {
        "id": "view-in-github",
        "colab_type": "text"
      },
      "source": [
        "<a href=\"https://colab.research.google.com/github/Gustavo-SH09/Data_Science/blob/main/AIRBNB_Primeiro_Projeto.ipynb\" target=\"_parent\"><img src=\"https://colab.research.google.com/assets/colab-badge.svg\" alt=\"Open In Colab\"/></a>"
      ]
    },
    {
      "cell_type": "markdown",
      "source": [
        "# Análise de Dados do Airbnb - Veneza(Itália)\n",
        "\n",
        "O AIRBNB é uma plataforma de hospedagem, que oferece outras opções além de hotéis, albergues e hostels para viajantes do mundo inteiro, sendo uma alternativa mais barata em relação a acomodações mais tradicionais.\n",
        "\n",
        "Uma das iniciativas do Airbnb é disponibilizar dados do site, para algumas das principais cidades do mundo. Por meio do Site [Inside Airbnb](http://insideairbnb.com/get-the-data.html), é disponibilizado uma grande quantidade de dados, que possivelmente possa estar sendo usada para Data Science as análises diversas.\n",
        "\n"
      ],
      "metadata": {
        "id": "j3bTAnuqSdXG"
      }
    },
    {
      "cell_type": "markdown",
      "source": [
        "\n",
        "<img alt=\"Colaboratory logo\" width=\"50%\" src=\"https://github.com/Gustavo-SH09/Dados-Utilitarios/blob/main/7d89b8f512e048c14fef7124e0bd4815vvv.jpg?raw=true\">\n",
        "\n",
        "\n"
      ],
      "metadata": {
        "id": "vCFoaDsMC2Ue"
      }
    },
    {
      "cell_type": "markdown",
      "metadata": {
        "id": "gSf7oohQrO-Z"
      },
      "source": [
        "# Relatório Veneza\n",
        "\n",
        "\n",
        "Venho por meio deste, efetuar uma pesquisa quantitativa referente a preços, locais e melhores experiencias de hospedagens em Veneza. O intuito desta pesquisa é dar uma resolução breve de um mapa de preços e localidades, para que assim possamos ter uma bagagem de conhecimento como consumidor frequente no ramo hoteleiro, obtendo uma maximização no ato de se hospedar nos melhores lugares pelos melhores preços disponíveis.\n"
      ]
    },
    {
      "cell_type": "markdown",
      "metadata": {
        "id": "xwO-_nhO6Uzw"
      },
      "source": [
        "# Análise de dados AIRBNB\n",
        "\n",
        "\\\n",
        "\n",
        "\n",
        "<center><img alt=\"Analisando Airbnb\" width=\"15%\" src=\"https://www.area360.com.au/wp-content/uploads/2017/09/airbnb-logo.jpg\"></center>"
      ]
    },
    {
      "cell_type": "markdown",
      "metadata": {
        "id": "zWp9Gis1-7oR"
      },
      "source": [
        ">Informações adiquiridas a partir de (\"http://insideairbnb.com/get-the-data.html\") Posteriormente acessando os dados de Veneza/Italia = informações resumidas!!"
      ]
    },
    {
      "cell_type": "code",
      "metadata": {
        "id": "f63sMAberKvJ"
      },
      "source": [
        "#pacotes necessários (biblioteca)\n",
        "import pandas as pd\n",
        "import seaborn as sns\n",
        "import matplotlib.pyplot as plt\n"
      ],
      "execution_count": null,
      "outputs": []
    },
    {
      "cell_type": "code",
      "metadata": {
        "id": "tUmoAT8DLQ5T"
      },
      "source": [
        "# importar o arquivo listings.csv para um DataFrame\n",
        "df = pd.read_csv(\"https://raw.githubusercontent.com/Gustavo-SH09/Dados-Utilitarios/main/Dates_venice.csv\")"
      ],
      "execution_count": null,
      "outputs": []
    },
    {
      "cell_type": "markdown",
      "metadata": {
        "id": "f6NWneAmAnHt"
      },
      "source": [
        "#Analise de Dados\n",
        "\n",
        "***Dicionario de variaveis*** \n",
        "\n",
        "*  id = número de identificação dada a propriedade de um anfitrião\n",
        "* Name = Nome da propriedade anunciada\n",
        "* host_id = número do id do propriedade(anfitrião) \n",
        "* host_name = nome do anfitrião\n",
        "* neighbourhood_group = esta coluna nao contem nunhum valor válido\n",
        "* neighbourhood = nome do bairro\n",
        "* latitude = coordenada da latitude da propriedade\n",
        "* longitude = coordenada da longitude da propriedade\n",
        "* room_typo = informa o tipo de quarto que esta sendo ofertado\n",
        "* price = preço para alugar o imovel\n",
        "* minimum nights = quantidade minima de noites para reservar\n",
        "* number_of_review = número de reviews que a prorpiedade possui\n",
        "* last_review = data do ultimo review\n",
        "* reviews_per_month = quantidade de review por mês\n",
        "* calculed_host_listings_count = quantidade de imóveis ofertados pelo mesmo anfitrião\n",
        "* avaliability_365 = número de dias de disponibilidade dentro de 365 dias.\n",
        "\n",
        "\n"
      ]
    },
    {
      "cell_type": "markdown",
      "source": [
        "Primeiramente, iremos visualizar as primeiras entradas do dataset para que assim tenhamos uma noção dos dados contidos."
      ],
      "metadata": {
        "id": "fYFxlCoZgWZN"
      }
    },
    {
      "cell_type": "code",
      "metadata": {
        "colab": {
          "base_uri": "https://localhost:8080/",
          "height": 600
        },
        "id": "EpuCL_37Akyw",
        "outputId": "6d6ffe02-660a-44e9-82b5-f8da27cd36a9"
      },
      "source": [
        "df.head()"
      ],
      "execution_count": null,
      "outputs": [
        {
          "output_type": "execute_result",
          "data": {
            "text/html": [
              "\n",
              "  <div id=\"df-6c0cb33f-417c-4fa4-aac2-10ddbffb93b7\">\n",
              "    <div class=\"colab-df-container\">\n",
              "      <div>\n",
              "<style scoped>\n",
              "    .dataframe tbody tr th:only-of-type {\n",
              "        vertical-align: middle;\n",
              "    }\n",
              "\n",
              "    .dataframe tbody tr th {\n",
              "        vertical-align: top;\n",
              "    }\n",
              "\n",
              "    .dataframe thead th {\n",
              "        text-align: right;\n",
              "    }\n",
              "</style>\n",
              "<table border=\"1\" class=\"dataframe\">\n",
              "  <thead>\n",
              "    <tr style=\"text-align: right;\">\n",
              "      <th></th>\n",
              "      <th>id</th>\n",
              "      <th>name</th>\n",
              "      <th>host_id</th>\n",
              "      <th>host_name</th>\n",
              "      <th>neighbourhood_group</th>\n",
              "      <th>neighbourhood</th>\n",
              "      <th>latitude</th>\n",
              "      <th>longitude</th>\n",
              "      <th>room_type</th>\n",
              "      <th>price</th>\n",
              "      <th>minimum_nights</th>\n",
              "      <th>number_of_reviews</th>\n",
              "      <th>last_review</th>\n",
              "      <th>reviews_per_month</th>\n",
              "      <th>calculated_host_listings_count</th>\n",
              "      <th>availability_365</th>\n",
              "      <th>number_of_reviews_ltm</th>\n",
              "      <th>license</th>\n",
              "    </tr>\n",
              "  </thead>\n",
              "  <tbody>\n",
              "    <tr>\n",
              "      <th>0</th>\n",
              "      <td>6623</td>\n",
              "      <td>Venice Blue on Canal apartment</td>\n",
              "      <td>15016</td>\n",
              "      <td>Francesca</td>\n",
              "      <td>Isole</td>\n",
              "      <td>San Polo</td>\n",
              "      <td>45.43817</td>\n",
              "      <td>12.32739</td>\n",
              "      <td>Entire home/apt</td>\n",
              "      <td>225</td>\n",
              "      <td>3</td>\n",
              "      <td>163</td>\n",
              "      <td>2019-06-26</td>\n",
              "      <td>1.50</td>\n",
              "      <td>3</td>\n",
              "      <td>352</td>\n",
              "      <td>1</td>\n",
              "      <td>NaN</td>\n",
              "    </tr>\n",
              "    <tr>\n",
              "      <th>1</th>\n",
              "      <td>6624</td>\n",
              "      <td>Venice garden charme and canal view!</td>\n",
              "      <td>15016</td>\n",
              "      <td>Francesca</td>\n",
              "      <td>Isole</td>\n",
              "      <td>Santa Croce</td>\n",
              "      <td>45.43977</td>\n",
              "      <td>12.32736</td>\n",
              "      <td>Entire home/apt</td>\n",
              "      <td>149</td>\n",
              "      <td>4</td>\n",
              "      <td>65</td>\n",
              "      <td>2016-07-17</td>\n",
              "      <td>0.66</td>\n",
              "      <td>3</td>\n",
              "      <td>340</td>\n",
              "      <td>1</td>\n",
              "      <td>NaN</td>\n",
              "    </tr>\n",
              "    <tr>\n",
              "      <th>2</th>\n",
              "      <td>12074</td>\n",
              "      <td>Venice home to relax and emotions</td>\n",
              "      <td>15016</td>\n",
              "      <td>Francesca</td>\n",
              "      <td>Isole</td>\n",
              "      <td>San Polo</td>\n",
              "      <td>45.43896</td>\n",
              "      <td>12.32970</td>\n",
              "      <td>Entire home/apt</td>\n",
              "      <td>122</td>\n",
              "      <td>4</td>\n",
              "      <td>186</td>\n",
              "      <td>2021-10-20</td>\n",
              "      <td>1.51</td>\n",
              "      <td>3</td>\n",
              "      <td>347</td>\n",
              "      <td>2</td>\n",
              "      <td>NaN</td>\n",
              "    </tr>\n",
              "    <tr>\n",
              "      <th>3</th>\n",
              "      <td>27116</td>\n",
              "      <td>Junior Suite with balcony overlooking canal</td>\n",
              "      <td>116144</td>\n",
              "      <td>Giò&amp;Giò</td>\n",
              "      <td>Isole</td>\n",
              "      <td>San Marco</td>\n",
              "      <td>45.43277</td>\n",
              "      <td>12.33456</td>\n",
              "      <td>Private room</td>\n",
              "      <td>150</td>\n",
              "      <td>1</td>\n",
              "      <td>412</td>\n",
              "      <td>2021-10-16</td>\n",
              "      <td>3.26</td>\n",
              "      <td>2</td>\n",
              "      <td>213</td>\n",
              "      <td>2</td>\n",
              "      <td>NaN</td>\n",
              "    </tr>\n",
              "    <tr>\n",
              "      <th>4</th>\n",
              "      <td>44527</td>\n",
              "      <td>Historical Luxury Apartment on Calm Sunny Canal</td>\n",
              "      <td>120215</td>\n",
              "      <td>Marc &amp; Elisabeth</td>\n",
              "      <td>Isole</td>\n",
              "      <td>Cannaregio</td>\n",
              "      <td>45.44569</td>\n",
              "      <td>12.32902</td>\n",
              "      <td>Entire home/apt</td>\n",
              "      <td>280</td>\n",
              "      <td>2</td>\n",
              "      <td>82</td>\n",
              "      <td>2021-11-30</td>\n",
              "      <td>1.41</td>\n",
              "      <td>1</td>\n",
              "      <td>298</td>\n",
              "      <td>10</td>\n",
              "      <td>NaN</td>\n",
              "    </tr>\n",
              "  </tbody>\n",
              "</table>\n",
              "</div>\n",
              "      <button class=\"colab-df-convert\" onclick=\"convertToInteractive('df-6c0cb33f-417c-4fa4-aac2-10ddbffb93b7')\"\n",
              "              title=\"Convert this dataframe to an interactive table.\"\n",
              "              style=\"display:none;\">\n",
              "        \n",
              "  <svg xmlns=\"http://www.w3.org/2000/svg\" height=\"24px\"viewBox=\"0 0 24 24\"\n",
              "       width=\"24px\">\n",
              "    <path d=\"M0 0h24v24H0V0z\" fill=\"none\"/>\n",
              "    <path d=\"M18.56 5.44l.94 2.06.94-2.06 2.06-.94-2.06-.94-.94-2.06-.94 2.06-2.06.94zm-11 1L8.5 8.5l.94-2.06 2.06-.94-2.06-.94L8.5 2.5l-.94 2.06-2.06.94zm10 10l.94 2.06.94-2.06 2.06-.94-2.06-.94-.94-2.06-.94 2.06-2.06.94z\"/><path d=\"M17.41 7.96l-1.37-1.37c-.4-.4-.92-.59-1.43-.59-.52 0-1.04.2-1.43.59L10.3 9.45l-7.72 7.72c-.78.78-.78 2.05 0 2.83L4 21.41c.39.39.9.59 1.41.59.51 0 1.02-.2 1.41-.59l7.78-7.78 2.81-2.81c.8-.78.8-2.07 0-2.86zM5.41 20L4 18.59l7.72-7.72 1.47 1.35L5.41 20z\"/>\n",
              "  </svg>\n",
              "      </button>\n",
              "      \n",
              "  <style>\n",
              "    .colab-df-container {\n",
              "      display:flex;\n",
              "      flex-wrap:wrap;\n",
              "      gap: 12px;\n",
              "    }\n",
              "\n",
              "    .colab-df-convert {\n",
              "      background-color: #E8F0FE;\n",
              "      border: none;\n",
              "      border-radius: 50%;\n",
              "      cursor: pointer;\n",
              "      display: none;\n",
              "      fill: #1967D2;\n",
              "      height: 32px;\n",
              "      padding: 0 0 0 0;\n",
              "      width: 32px;\n",
              "    }\n",
              "\n",
              "    .colab-df-convert:hover {\n",
              "      background-color: #E2EBFA;\n",
              "      box-shadow: 0px 1px 2px rgba(60, 64, 67, 0.3), 0px 1px 3px 1px rgba(60, 64, 67, 0.15);\n",
              "      fill: #174EA6;\n",
              "    }\n",
              "\n",
              "    [theme=dark] .colab-df-convert {\n",
              "      background-color: #3B4455;\n",
              "      fill: #D2E3FC;\n",
              "    }\n",
              "\n",
              "    [theme=dark] .colab-df-convert:hover {\n",
              "      background-color: #434B5C;\n",
              "      box-shadow: 0px 1px 3px 1px rgba(0, 0, 0, 0.15);\n",
              "      filter: drop-shadow(0px 1px 2px rgba(0, 0, 0, 0.3));\n",
              "      fill: #FFFFFF;\n",
              "    }\n",
              "  </style>\n",
              "\n",
              "      <script>\n",
              "        const buttonEl =\n",
              "          document.querySelector('#df-6c0cb33f-417c-4fa4-aac2-10ddbffb93b7 button.colab-df-convert');\n",
              "        buttonEl.style.display =\n",
              "          google.colab.kernel.accessAllowed ? 'block' : 'none';\n",
              "\n",
              "        async function convertToInteractive(key) {\n",
              "          const element = document.querySelector('#df-6c0cb33f-417c-4fa4-aac2-10ddbffb93b7');\n",
              "          const dataTable =\n",
              "            await google.colab.kernel.invokeFunction('convertToInteractive',\n",
              "                                                     [key], {});\n",
              "          if (!dataTable) return;\n",
              "\n",
              "          const docLinkHtml = 'Like what you see? Visit the ' +\n",
              "            '<a target=\"_blank\" href=https://colab.research.google.com/notebooks/data_table.ipynb>data table notebook</a>'\n",
              "            + ' to learn more about interactive tables.';\n",
              "          element.innerHTML = '';\n",
              "          dataTable['output_type'] = 'display_data';\n",
              "          await google.colab.output.renderOutput(dataTable, element);\n",
              "          const docLink = document.createElement('div');\n",
              "          docLink.innerHTML = docLinkHtml;\n",
              "          element.appendChild(docLink);\n",
              "        }\n",
              "      </script>\n",
              "    </div>\n",
              "  </div>\n",
              "  "
            ],
            "text/plain": [
              "      id  ... license\n",
              "0   6623  ...     NaN\n",
              "1   6624  ...     NaN\n",
              "2  12074  ...     NaN\n",
              "3  27116  ...     NaN\n",
              "4  44527  ...     NaN\n",
              "\n",
              "[5 rows x 18 columns]"
            ]
          },
          "metadata": {},
          "execution_count": 21
        }
      ]
    },
    {
      "cell_type": "markdown",
      "source": [
        "# Correlação "
      ],
      "metadata": {
        "id": "jH9Mo7qXySsO"
      }
    },
    {
      "cell_type": "markdown",
      "source": [
        "#Volume de Dados"
      ],
      "metadata": {
        "id": "DvL6tQrkxeyG"
      }
    },
    {
      "cell_type": "markdown",
      "source": [
        "A indentificação dos tipos de dados e o volumes em que eles se emcontram no dataset."
      ],
      "metadata": {
        "id": "fydkVymRgyoP"
      }
    },
    {
      "cell_type": "code",
      "metadata": {
        "colab": {
          "base_uri": "https://localhost:8080/",
          "height": 398
        },
        "id": "z3dEzGLQyAmf",
        "outputId": "5a8f86b2-1e42-4bbc-8d3d-d8528365476b"
      },
      "source": [
        "#volume de dados de DataFrame indentificados\n",
        "print(\"Entradas:\\t {}\".format(df.shape[0]))\n",
        "print(\"Variáveis:\\t {}\\n\".format(df.shape[1]))\n",
        "\n",
        "#cinco primeiras entradas do dataset verificado\n",
        "display(df.dtypes)"
      ],
      "execution_count": null,
      "outputs": [
        {
          "output_type": "stream",
          "name": "stdout",
          "text": [
            "Entradas:\t 7352\n",
            "Variáveis:\t 18\n",
            "\n"
          ]
        },
        {
          "output_type": "display_data",
          "data": {
            "text/plain": [
              "id                                  int64\n",
              "name                               object\n",
              "host_id                             int64\n",
              "host_name                          object\n",
              "neighbourhood_group                object\n",
              "neighbourhood                      object\n",
              "latitude                          float64\n",
              "longitude                         float64\n",
              "room_type                          object\n",
              "price                               int64\n",
              "minimum_nights                      int64\n",
              "number_of_reviews                   int64\n",
              "last_review                        object\n",
              "reviews_per_month                 float64\n",
              "calculated_host_listings_count      int64\n",
              "availability_365                    int64\n",
              "number_of_reviews_ltm               int64\n",
              "license                            object\n",
              "dtype: object"
            ]
          },
          "metadata": {}
        }
      ]
    },
    {
      "cell_type": "code",
      "metadata": {
        "colab": {
          "base_uri": "https://localhost:8080/"
        },
        "id": "xVt7Buck4fze",
        "outputId": "f9e4f9a3-ee03-4e82-d293-75eaf6d31243"
      },
      "source": [
        "# ordenando em ordem decrescente as variáveis por seus valores ausentes\n",
        "(df.isnull().sum() / df.shape[0]).sort_values(ascending=False)"
      ],
      "execution_count": null,
      "outputs": [
        {
          "output_type": "execute_result",
          "data": {
            "text/plain": [
              "license                           0.835147\n",
              "reviews_per_month                 0.126360\n",
              "last_review                       0.126360\n",
              "host_name                         0.000272\n",
              "minimum_nights                    0.000000\n",
              "number_of_reviews_ltm             0.000000\n",
              "availability_365                  0.000000\n",
              "calculated_host_listings_count    0.000000\n",
              "number_of_reviews                 0.000000\n",
              "id                                0.000000\n",
              "name                              0.000000\n",
              "room_type                         0.000000\n",
              "longitude                         0.000000\n",
              "latitude                          0.000000\n",
              "neighbourhood                     0.000000\n",
              "neighbourhood_group               0.000000\n",
              "host_id                           0.000000\n",
              "price                             0.000000\n",
              "dtype: float64"
            ]
          },
          "metadata": {},
          "execution_count": 6
        }
      ]
    },
    {
      "cell_type": "code",
      "metadata": {
        "colab": {
          "base_uri": "https://localhost:8080/",
          "height": 607
        },
        "id": "RdIqy_S-JwTE",
        "outputId": "1bcdd4be-eacb-4b45-cfd2-6ee0ec70950a"
      },
      "source": [
        "#plotando histograma de variaveis numericas\n",
        "df.hist(bins=15, figsize=(15,10));"
      ],
      "execution_count": null,
      "outputs": [
        {
          "output_type": "display_data",
          "data": {
            "image/png": "[encoded data removed]",
            "text/plain": [
              "<Figure size 1080x720 with 12 Axes>"
            ]
          },
          "metadata": {
            "needs_background": "light"
          }
        }
      ]
    },
    {
      "cell_type": "markdown",
      "metadata": {
        "id": "EZ2rQiQlO9h9"
      },
      "source": [
        "# Provavelmente há a ocorrencia de Outliers presentes\n",
        "\n",
        "Pela distribuição do histograma, é possivel verificar indícios da presença de Outliers. Olhe por exemplo as variáveis `price`, `minimum_nights`, `number_of_reviews`, `reviwes_per_month`, `calculated_host_listings_count`.\n",
        "\n",
        "Os valores não seguem uma distribuição, e distorcem toda a representação gráfica. Para confirmar, há duas maneiras rápidas que auxiliam a detecçao de outliers. \\\n",
        "\n",
        "São elas: \\\n",
        "\n",
        "* Resumo estátivo por meio do método `describe()`\n",
        "* Plotar `boxplots` par a variável."
      ]
    },
    {
      "cell_type": "code",
      "metadata": {
        "colab": {
          "base_uri": "https://localhost:8080/",
          "height": 300
        },
        "id": "m2XgQ9PPO4UH",
        "outputId": "ad6405d7-a939-4f97-b4de-51c66b68efd9"
      },
      "source": [
        "# vendo o resumo estatístico das variáveis numéricas\n",
        "df[['price', 'minimum_nights',\t'number_of_reviews', 'last_review',\t'reviews_per_month',\t'calculated_host_listings_count',\t'availability_365']].describe()\n",
        "   "
      ],
      "execution_count": null,
      "outputs": [
        {
          "output_type": "execute_result",
          "data": {
            "text/html": [
              "\n",
              "  <div id=\"df-7b41c312-36ea-4547-95d8-d10db232f911\">\n",
              "    <div class=\"colab-df-container\">\n",
              "      <div>\n",
              "<style scoped>\n",
              "    .dataframe tbody tr th:only-of-type {\n",
              "        vertical-align: middle;\n",
              "    }\n",
              "\n",
              "    .dataframe tbody tr th {\n",
              "        vertical-align: top;\n",
              "    }\n",
              "\n",
              "    .dataframe thead th {\n",
              "        text-align: right;\n",
              "    }\n",
              "</style>\n",
              "<table border=\"1\" class=\"dataframe\">\n",
              "  <thead>\n",
              "    <tr style=\"text-align: right;\">\n",
              "      <th></th>\n",
              "      <th>price</th>\n",
              "      <th>minimum_nights</th>\n",
              "      <th>number_of_reviews</th>\n",
              "      <th>reviews_per_month</th>\n",
              "      <th>calculated_host_listings_count</th>\n",
              "      <th>availability_365</th>\n",
              "    </tr>\n",
              "  </thead>\n",
              "  <tbody>\n",
              "    <tr>\n",
              "      <th>count</th>\n",
              "      <td>7352.000000</td>\n",
              "      <td>7352.000000</td>\n",
              "      <td>7352.000000</td>\n",
              "      <td>6423.000000</td>\n",
              "      <td>7352.000000</td>\n",
              "      <td>7352.000000</td>\n",
              "    </tr>\n",
              "    <tr>\n",
              "      <th>mean</th>\n",
              "      <td>207.433624</td>\n",
              "      <td>2.458379</td>\n",
              "      <td>64.155196</td>\n",
              "      <td>1.674826</td>\n",
              "      <td>9.944505</td>\n",
              "      <td>223.943009</td>\n",
              "    </tr>\n",
              "    <tr>\n",
              "      <th>std</th>\n",
              "      <td>1071.099970</td>\n",
              "      <td>8.458218</td>\n",
              "      <td>92.773721</td>\n",
              "      <td>1.741708</td>\n",
              "      <td>20.490939</td>\n",
              "      <td>129.938807</td>\n",
              "    </tr>\n",
              "    <tr>\n",
              "      <th>min</th>\n",
              "      <td>0.000000</td>\n",
              "      <td>1.000000</td>\n",
              "      <td>0.000000</td>\n",
              "      <td>0.010000</td>\n",
              "      <td>1.000000</td>\n",
              "      <td>0.000000</td>\n",
              "    </tr>\n",
              "    <tr>\n",
              "      <th>25%</th>\n",
              "      <td>70.000000</td>\n",
              "      <td>1.000000</td>\n",
              "      <td>4.000000</td>\n",
              "      <td>0.460000</td>\n",
              "      <td>1.000000</td>\n",
              "      <td>109.000000</td>\n",
              "    </tr>\n",
              "    <tr>\n",
              "      <th>50%</th>\n",
              "      <td>100.000000</td>\n",
              "      <td>2.000000</td>\n",
              "      <td>25.000000</td>\n",
              "      <td>1.200000</td>\n",
              "      <td>3.000000</td>\n",
              "      <td>270.000000</td>\n",
              "    </tr>\n",
              "    <tr>\n",
              "      <th>75%</th>\n",
              "      <td>145.000000</td>\n",
              "      <td>3.000000</td>\n",
              "      <td>88.000000</td>\n",
              "      <td>2.360000</td>\n",
              "      <td>7.000000</td>\n",
              "      <td>339.000000</td>\n",
              "    </tr>\n",
              "    <tr>\n",
              "      <th>max</th>\n",
              "      <td>16800.000000</td>\n",
              "      <td>400.000000</td>\n",
              "      <td>765.000000</td>\n",
              "      <td>41.000000</td>\n",
              "      <td>118.000000</td>\n",
              "      <td>365.000000</td>\n",
              "    </tr>\n",
              "  </tbody>\n",
              "</table>\n",
              "</div>\n",
              "      <button class=\"colab-df-convert\" onclick=\"convertToInteractive('df-7b41c312-36ea-4547-95d8-d10db232f911')\"\n",
              "              title=\"Convert this dataframe to an interactive table.\"\n",
              "              style=\"display:none;\">\n",
              "        \n",
              "  <svg xmlns=\"http://www.w3.org/2000/svg\" height=\"24px\"viewBox=\"0 0 24 24\"\n",
              "       width=\"24px\">\n",
              "    <path d=\"M0 0h24v24H0V0z\" fill=\"none\"/>\n",
              "    <path d=\"M18.56 5.44l.94 2.06.94-2.06 2.06-.94-2.06-.94-.94-2.06-.94 2.06-2.06.94zm-11 1L8.5 8.5l.94-2.06 2.06-.94-2.06-.94L8.5 2.5l-.94 2.06-2.06.94zm10 10l.94 2.06.94-2.06 2.06-.94-2.06-.94-.94-2.06-.94 2.06-2.06.94z\"/><path d=\"M17.41 7.96l-1.37-1.37c-.4-.4-.92-.59-1.43-.59-.52 0-1.04.2-1.43.59L10.3 9.45l-7.72 7.72c-.78.78-.78 2.05 0 2.83L4 21.41c.39.39.9.59 1.41.59.51 0 1.02-.2 1.41-.59l7.78-7.78 2.81-2.81c.8-.78.8-2.07 0-2.86zM5.41 20L4 18.59l7.72-7.72 1.47 1.35L5.41 20z\"/>\n",
              "  </svg>\n",
              "      </button>\n",
              "      \n",
              "  <style>\n",
              "    .colab-df-container {\n",
              "      display:flex;\n",
              "      flex-wrap:wrap;\n",
              "      gap: 12px;\n",
              "    }\n",
              "\n",
              "    .colab-df-convert {\n",
              "      background-color: #E8F0FE;\n",
              "      border: none;\n",
              "      border-radius: 50%;\n",
              "      cursor: pointer;\n",
              "      display: none;\n",
              "      fill: #1967D2;\n",
              "      height: 32px;\n",
              "      padding: 0 0 0 0;\n",
              "      width: 32px;\n",
              "    }\n",
              "\n",
              "    .colab-df-convert:hover {\n",
              "      background-color: #E2EBFA;\n",
              "      box-shadow: 0px 1px 2px rgba(60, 64, 67, 0.3), 0px 1px 3px 1px rgba(60, 64, 67, 0.15);\n",
              "      fill: #174EA6;\n",
              "    }\n",
              "\n",
              "    [theme=dark] .colab-df-convert {\n",
              "      background-color: #3B4455;\n",
              "      fill: #D2E3FC;\n",
              "    }\n",
              "\n",
              "    [theme=dark] .colab-df-convert:hover {\n",
              "      background-color: #434B5C;\n",
              "      box-shadow: 0px 1px 3px 1px rgba(0, 0, 0, 0.15);\n",
              "      filter: drop-shadow(0px 1px 2px rgba(0, 0, 0, 0.3));\n",
              "      fill: #FFFFFF;\n",
              "    }\n",
              "  </style>\n",
              "\n",
              "      <script>\n",
              "        const buttonEl =\n",
              "          document.querySelector('#df-7b41c312-36ea-4547-95d8-d10db232f911 button.colab-df-convert');\n",
              "        buttonEl.style.display =\n",
              "          google.colab.kernel.accessAllowed ? 'block' : 'none';\n",
              "\n",
              "        async function convertToInteractive(key) {\n",
              "          const element = document.querySelector('#df-7b41c312-36ea-4547-95d8-d10db232f911');\n",
              "          const dataTable =\n",
              "            await google.colab.kernel.invokeFunction('convertToInteractive',\n",
              "                                                     [key], {});\n",
              "          if (!dataTable) return;\n",
              "\n",
              "          const docLinkHtml = 'Like what you see? Visit the ' +\n",
              "            '<a target=\"_blank\" href=https://colab.research.google.com/notebooks/data_table.ipynb>data table notebook</a>'\n",
              "            + ' to learn more about interactive tables.';\n",
              "          element.innerHTML = '';\n",
              "          dataTable['output_type'] = 'display_data';\n",
              "          await google.colab.output.renderOutput(dataTable, element);\n",
              "          const docLink = document.createElement('div');\n",
              "          docLink.innerHTML = docLinkHtml;\n",
              "          element.appendChild(docLink);\n",
              "        }\n",
              "      </script>\n",
              "    </div>\n",
              "  </div>\n",
              "  "
            ],
            "text/plain": [
              "              price  ...  availability_365\n",
              "count   7352.000000  ...       7352.000000\n",
              "mean     207.433624  ...        223.943009\n",
              "std     1071.099970  ...        129.938807\n",
              "min        0.000000  ...          0.000000\n",
              "25%       70.000000  ...        109.000000\n",
              "50%      100.000000  ...        270.000000\n",
              "75%      145.000000  ...        339.000000\n",
              "max    16800.000000  ...        365.000000\n",
              "\n",
              "[8 rows x 6 columns]"
            ]
          },
          "metadata": {},
          "execution_count": 8
        }
      ]
    },
    {
      "cell_type": "markdown",
      "metadata": {
        "id": "rrHA96kjAVHQ"
      },
      "source": [
        "visualizando os arquivos acima, podemos chegar a conclusao de que:    \n",
        "* a variavel `price` tem 75% dos valores a baixo de 145, porém, seu volaro máximo atinge o valor de 9999.\n",
        "* a quantidade minima de noites em `minimum_nigths` está em 1 dia ao ano."
      ]
    },
    {
      "cell_type": "markdown",
      "metadata": {
        "id": "SpLC39csBWJA"
      },
      "source": [
        "#Boxplot para minimum_nights"
      ]
    },
    {
      "cell_type": "code",
      "metadata": {
        "colab": {
          "base_uri": "https://localhost:8080/",
          "height": 209
        },
        "id": "wMYHn3luAGh2",
        "outputId": "7f50108f-6c56-4a1a-fcb0-825d04722ebd"
      },
      "source": [
        "#minimo de noites / minimum_nights\n",
        "\n",
        "\n",
        "df.minimum_nights.plot(kind='box', vert=False, figsize=(10,2))\n",
        "\n",
        "#ver a quantidade de valores acima de 5 dias para minimum_nights\n",
        "print(\"minimum_nights: valores acima de 5:\")\n",
        "print(\"{} entradas\".format(len(df[df.minimum_nights>5])))\n",
        "print(\"{:.4f}%\".format((len(df[df.minimum_nights>5]) / df.shape[0])*100))"
      ],
      "execution_count": null,
      "outputs": [
        {
          "output_type": "stream",
          "name": "stdout",
          "text": [
            "minimum_nights: valores acima de 5:\n",
            "178 entradas\n",
            "2.4211%\n"
          ]
        },
        {
          "output_type": "display_data",
          "data": {
            "image/png": "[encoded data removed]",
            "text/plain": [
              "<Figure size 720x144 with 1 Axes>"
            ]
          },
          "metadata": {
            "needs_background": "light"
          }
        }
      ]
    },
    {
      "cell_type": "markdown",
      "source": [
        "Sendo assim, todos os valores fora do retângulo são Outliers. Temos 178 locais que tem estadia minima de 5 dias, o que culmina em 2,42% da base de dados.\n",
        "\n",
        "A escolha por optar apenas pelos 5 dias resulta nas poucas diarias em que os hospedes se mantem, causando Outliers em hospedes que se mantem por um tempo prolongado."
      ],
      "metadata": {
        "id": "-KOKRmCOrBrQ"
      }
    },
    {
      "cell_type": "code",
      "metadata": {
        "colab": {
          "base_uri": "https://localhost:8080/",
          "height": 281
        },
        "id": "_DmVMVBYaGBb",
        "outputId": "c0ac9121-b2f1-4e5e-cc70-58170b96443e"
      },
      "source": [
        "# Boxplot para preço\n",
        "df.price.plot(kind='box', vert=False, figsize=(15,3),)\n",
        "plt.show()\n",
        "\n",
        "# ver a quantidade de valores acima de 500 para price\n",
        "print(\"\\nprice: valores acima de 500\")\n",
        "print(\"{} entradas\".format(len(df[df.price > 500])))\n",
        "print(\"{:.4f}%\".format((len(df[df.price > 500]) / df.shape[0])*100))\n",
        "\n",
        "# df.price.plot(kind='box', vert=False, xlim=(0,1300), figsize=(15,3));"
      ],
      "execution_count": null,
      "outputs": [
        {
          "output_type": "display_data",
          "data": {
            "image/png": "[encoded data removed]",
            "text/plain": [
              "<Figure size 1080x216 with 1 Axes>"
            ]
          },
          "metadata": {
            "needs_background": "light"
          }
        },
        {
          "output_type": "stream",
          "name": "stdout",
          "text": [
            "\n",
            "price: valores acima de 500\n",
            "184 entradas\n",
            "2.5027%\n"
          ]
        }
      ]
    },
    {
      "cell_type": "markdown",
      "source": [
        "Assim, os valores fora do retângulo são Outliers. Temos 184 locais que tem valores acima de 500, o que resulta em aproximadamente 2,5% da base de dados do dataset.  \n",
        "A preferencia pelo valor expecifico \"500\" é resultado dos preços presentes em Veneza"
      ],
      "metadata": {
        "id": "6to8X2Es_1Pu"
      }
    },
    {
      "cell_type": "markdown",
      "source": [
        "#**Histograma sem outliers**\n"
      ],
      "metadata": {
        "id": "MxAUQvZ4wevS"
      }
    },
    {
      "cell_type": "markdown",
      "metadata": {
        "id": "9F5vm16l9mFq"
      },
      "source": [
        "\n",
        "já que identificamos nas variáveis `price` e `minimum_nights`, vamos agora limpar o DataFrame delas e plotar novamente o histograma."
      ]
    },
    {
      "cell_type": "code",
      "metadata": {
        "colab": {
          "base_uri": "https://localhost:8080/",
          "height": 607
        },
        "id": "rDhPjpcg7Kd0",
        "outputId": "d62c2670-0601-4a9a-f356-cd8490ab2979"
      },
      "source": [
        "# remover os *outliers* em um novo DataFrame\n",
        "df_clean = df.copy()\n",
        "df_clean.drop(df_clean[df_clean.price > 200].index, axis=0, inplace=True)\n",
        "df_clean.drop(df_clean[df_clean.minimum_nights > 30].index, axis=0, inplace=True)\n",
        "\n",
        "\n",
        "# remover ´neigbourhood_group´, pois está vazio.\n",
        "df_clean.drop('license', axis=1, inplace=True)\n",
        "\n",
        "#plotar o histograma para as variáveis numéricas\n",
        "df_clean.hist(bins=15, figsize=(15,10));"
      ],
      "execution_count": null,
      "outputs": [
        {
          "output_type": "display_data",
          "data": {
            "image/png": "[encoded data removed]",
            "text/plain": [
              "<Figure size 1080x720 with 12 Axes>"
            ]
          },
          "metadata": {
            "needs_background": "light"
          }
        }
      ]
    },
    {
      "cell_type": "markdown",
      "source": [
        "Percebemos, então, que ao tirarmos alguns outliers conseguimos visualizar melhor como nossos dados estão distribuídos. Isto faz com que os insights tirados do histograma tenham uma probabilidade maior de compactuarem com a realidade do nosso problema!"
      ],
      "metadata": {
        "id": "DwRKwnzOCsxZ"
      }
    },
    {
      "cell_type": "markdown",
      "metadata": {
        "id": "ygb6bXkhQ6OC"
      },
      "source": [
        "# Qual a corelação existente entre as variáveis \n",
        "\n",
        "Correlação significa que existe uma relação entre duas coisas. No nosso contexto, estamos buscando relação por semelhança entre duas variáveis.\n",
        "\n",
        "Essa relação pode ser medida, e é função do coeficiente de correlação estabelecer qual a intencidade dela. Para identificar as correlações existentes entre as variaveis de interese, vou:    \n",
        "* Criar uma matriz de correlação \n",
        "* Gerar ym *heatmap* a partir dessa matriz, usando a biblioteca `seaborn`"
      ]
    },
    {
      "cell_type": "code",
      "metadata": {
        "colab": {
          "base_uri": "https://localhost:8080/"
        },
        "id": "0ZWiruEGYCwT",
        "outputId": "1a2458b4-b4af-410f-d80a-51bff0656374"
      },
      "source": [
        "# Criando uma matriz de correlação\n",
        "\n",
        "corr = df_clean[['price', 'minimum_nights', 'number_of_reviews', 'reviews_per_month', 'calculated_host_listings_count', 'availability_365']].corr()\n",
        "\n",
        "display(corr)"
      ],
      "execution_count": null,
      "outputs": [
        {
          "output_type": "display_data",
          "data": {
            "text/html": [
              "\n",
              "  <div id=\"df-62889295-11e9-489a-9ada-dd7f9199b9a5\">\n",
              "    <div class=\"colab-df-container\">\n",
              "      <div>\n",
              "<style scoped>\n",
              "    .dataframe tbody tr th:only-of-type {\n",
              "        vertical-align: middle;\n",
              "    }\n",
              "\n",
              "    .dataframe tbody tr th {\n",
              "        vertical-align: top;\n",
              "    }\n",
              "\n",
              "    .dataframe thead th {\n",
              "        text-align: right;\n",
              "    }\n",
              "</style>\n",
              "<table border=\"1\" class=\"dataframe\">\n",
              "  <thead>\n",
              "    <tr style=\"text-align: right;\">\n",
              "      <th></th>\n",
              "      <th>price</th>\n",
              "      <th>minimum_nights</th>\n",
              "      <th>number_of_reviews</th>\n",
              "      <th>reviews_per_month</th>\n",
              "      <th>calculated_host_listings_count</th>\n",
              "      <th>availability_365</th>\n",
              "    </tr>\n",
              "  </thead>\n",
              "  <tbody>\n",
              "    <tr>\n",
              "      <th>price</th>\n",
              "      <td>1.000000</td>\n",
              "      <td>0.051486</td>\n",
              "      <td>-0.195054</td>\n",
              "      <td>-0.189729</td>\n",
              "      <td>0.222105</td>\n",
              "      <td>0.096450</td>\n",
              "    </tr>\n",
              "    <tr>\n",
              "      <th>minimum_nights</th>\n",
              "      <td>0.051486</td>\n",
              "      <td>1.000000</td>\n",
              "      <td>-0.029767</td>\n",
              "      <td>-0.095339</td>\n",
              "      <td>-0.047811</td>\n",
              "      <td>-0.033700</td>\n",
              "    </tr>\n",
              "    <tr>\n",
              "      <th>number_of_reviews</th>\n",
              "      <td>-0.195054</td>\n",
              "      <td>-0.029767</td>\n",
              "      <td>1.000000</td>\n",
              "      <td>0.627808</td>\n",
              "      <td>-0.151617</td>\n",
              "      <td>0.002730</td>\n",
              "    </tr>\n",
              "    <tr>\n",
              "      <th>reviews_per_month</th>\n",
              "      <td>-0.189729</td>\n",
              "      <td>-0.095339</td>\n",
              "      <td>0.627808</td>\n",
              "      <td>1.000000</td>\n",
              "      <td>-0.110781</td>\n",
              "      <td>0.027720</td>\n",
              "    </tr>\n",
              "    <tr>\n",
              "      <th>calculated_host_listings_count</th>\n",
              "      <td>0.222105</td>\n",
              "      <td>-0.047811</td>\n",
              "      <td>-0.151617</td>\n",
              "      <td>-0.110781</td>\n",
              "      <td>1.000000</td>\n",
              "      <td>0.133591</td>\n",
              "    </tr>\n",
              "    <tr>\n",
              "      <th>availability_365</th>\n",
              "      <td>0.096450</td>\n",
              "      <td>-0.033700</td>\n",
              "      <td>0.002730</td>\n",
              "      <td>0.027720</td>\n",
              "      <td>0.133591</td>\n",
              "      <td>1.000000</td>\n",
              "    </tr>\n",
              "  </tbody>\n",
              "</table>\n",
              "</div>\n",
              "      <button class=\"colab-df-convert\" onclick=\"convertToInteractive('df-62889295-11e9-489a-9ada-dd7f9199b9a5')\"\n",
              "              title=\"Convert this dataframe to an interactive table.\"\n",
              "              style=\"display:none;\">\n",
              "        \n",
              "  <svg xmlns=\"http://www.w3.org/2000/svg\" height=\"24px\"viewBox=\"0 0 24 24\"\n",
              "       width=\"24px\">\n",
              "    <path d=\"M0 0h24v24H0V0z\" fill=\"none\"/>\n",
              "    <path d=\"M18.56 5.44l.94 2.06.94-2.06 2.06-.94-2.06-.94-.94-2.06-.94 2.06-2.06.94zm-11 1L8.5 8.5l.94-2.06 2.06-.94-2.06-.94L8.5 2.5l-.94 2.06-2.06.94zm10 10l.94 2.06.94-2.06 2.06-.94-2.06-.94-.94-2.06-.94 2.06-2.06.94z\"/><path d=\"M17.41 7.96l-1.37-1.37c-.4-.4-.92-.59-1.43-.59-.52 0-1.04.2-1.43.59L10.3 9.45l-7.72 7.72c-.78.78-.78 2.05 0 2.83L4 21.41c.39.39.9.59 1.41.59.51 0 1.02-.2 1.41-.59l7.78-7.78 2.81-2.81c.8-.78.8-2.07 0-2.86zM5.41 20L4 18.59l7.72-7.72 1.47 1.35L5.41 20z\"/>\n",
              "  </svg>\n",
              "      </button>\n",
              "      \n",
              "  <style>\n",
              "    .colab-df-container {\n",
              "      display:flex;\n",
              "      flex-wrap:wrap;\n",
              "      gap: 12px;\n",
              "    }\n",
              "\n",
              "    .colab-df-convert {\n",
              "      background-color: #E8F0FE;\n",
              "      border: none;\n",
              "      border-radius: 50%;\n",
              "      cursor: pointer;\n",
              "      display: none;\n",
              "      fill: #1967D2;\n",
              "      height: 32px;\n",
              "      padding: 0 0 0 0;\n",
              "      width: 32px;\n",
              "    }\n",
              "\n",
              "    .colab-df-convert:hover {\n",
              "      background-color: #E2EBFA;\n",
              "      box-shadow: 0px 1px 2px rgba(60, 64, 67, 0.3), 0px 1px 3px 1px rgba(60, 64, 67, 0.15);\n",
              "      fill: #174EA6;\n",
              "    }\n",
              "\n",
              "    [theme=dark] .colab-df-convert {\n",
              "      background-color: #3B4455;\n",
              "      fill: #D2E3FC;\n",
              "    }\n",
              "\n",
              "    [theme=dark] .colab-df-convert:hover {\n",
              "      background-color: #434B5C;\n",
              "      box-shadow: 0px 1px 3px 1px rgba(0, 0, 0, 0.15);\n",
              "      filter: drop-shadow(0px 1px 2px rgba(0, 0, 0, 0.3));\n",
              "      fill: #FFFFFF;\n",
              "    }\n",
              "  </style>\n",
              "\n",
              "      <script>\n",
              "        const buttonEl =\n",
              "          document.querySelector('#df-62889295-11e9-489a-9ada-dd7f9199b9a5 button.colab-df-convert');\n",
              "        buttonEl.style.display =\n",
              "          google.colab.kernel.accessAllowed ? 'block' : 'none';\n",
              "\n",
              "        async function convertToInteractive(key) {\n",
              "          const element = document.querySelector('#df-62889295-11e9-489a-9ada-dd7f9199b9a5');\n",
              "          const dataTable =\n",
              "            await google.colab.kernel.invokeFunction('convertToInteractive',\n",
              "                                                     [key], {});\n",
              "          if (!dataTable) return;\n",
              "\n",
              "          const docLinkHtml = 'Like what you see? Visit the ' +\n",
              "            '<a target=\"_blank\" href=https://colab.research.google.com/notebooks/data_table.ipynb>data table notebook</a>'\n",
              "            + ' to learn more about interactive tables.';\n",
              "          element.innerHTML = '';\n",
              "          dataTable['output_type'] = 'display_data';\n",
              "          await google.colab.output.renderOutput(dataTable, element);\n",
              "          const docLink = document.createElement('div');\n",
              "          docLink.innerHTML = docLinkHtml;\n",
              "          element.appendChild(docLink);\n",
              "        }\n",
              "      </script>\n",
              "    </div>\n",
              "  </div>\n",
              "  "
            ],
            "text/plain": [
              "                                   price  ...  availability_365\n",
              "price                           1.000000  ...          0.096450\n",
              "minimum_nights                  0.051486  ...         -0.033700\n",
              "number_of_reviews              -0.195054  ...          0.002730\n",
              "reviews_per_month              -0.189729  ...          0.027720\n",
              "calculated_host_listings_count  0.222105  ...          0.133591\n",
              "availability_365                0.096450  ...          1.000000\n",
              "\n",
              "[6 rows x 6 columns]"
            ]
          },
          "metadata": {}
        }
      ]
    },
    {
      "cell_type": "code",
      "metadata": {
        "colab": {
          "base_uri": "https://localhost:8080/"
        },
        "id": "OdsEbHQ6ZAtq",
        "outputId": "e4983714-5da9-4592-9d61-3c69d944f1be"
      },
      "source": [
        "# Plotar um heatmap a partir das correlações\n",
        "\n",
        "sns.heatmap(corr, cmap='RdBu', fmt='.2f', square=True, linecolor='white', annot=True);"
      ],
      "execution_count": null,
      "outputs": [
        {
          "output_type": "display_data",
          "data": {
            "image/png": "[encoded data removed]",
            "text/plain": [
              "<Figure size 432x288 with 2 Axes>"
            ]
          },
          "metadata": {
            "needs_background": "light"
          }
        }
      ]
    },
    {
      "cell_type": "code",
      "metadata": {
        "colab": {
          "base_uri": "https://localhost:8080/"
        },
        "id": "-6dhVXiCbxry",
        "outputId": "b89bec2d-8cbd-4c9b-c1ba-4ebe2c3b21bd"
      },
      "source": [
        "# mostrando a quantidade de cada tipo de imovel disponivel\n",
        "\n",
        "df_clean.room_type.value_counts()"
      ],
      "execution_count": null,
      "outputs": [
        {
          "output_type": "execute_result",
          "data": {
            "text/plain": [
              "Entire home/apt    5496\n",
              "Private room       1434\n",
              "Hotel room          198\n",
              "Shared room          29\n",
              "Name: room_type, dtype: int64"
            ]
          },
          "metadata": {},
          "execution_count": 14
        }
      ]
    },
    {
      "cell_type": "code",
      "metadata": {
        "colab": {
          "base_uri": "https://localhost:8080/"
        },
        "id": "HtHN6B0fc9_Z",
        "outputId": "3eb76a57-9fd7-48cc-bac3-6bcad3bc1c82"
      },
      "source": [
        "# Mostrando a porcentagem em que cada tipo de imovel está disponivel\n",
        "df_clean.room_type.value_counts() / df_clean.shape[0]"
      ],
      "execution_count": null,
      "outputs": [
        {
          "output_type": "execute_result",
          "data": {
            "text/plain": [
              "Entire home/apt    0.767920\n",
              "Private room       0.200363\n",
              "Hotel room         0.027665\n",
              "Shared room        0.004052\n",
              "Name: room_type, dtype: float64"
            ]
          },
          "metadata": {},
          "execution_count": 15
        }
      ]
    },
    {
      "cell_type": "markdown",
      "metadata": {
        "id": "Py8_RwhwfX5g"
      },
      "source": [
        "# ***Qual a localização mais cara de Veneza***\n",
        "uma maneira de se verificar uma variável em função da outra é usando `groupby()`. No caso, queremos comparar os bairros (neigbourhoods) a patir do preço de locação."
      ]
    },
    {
      "cell_type": "code",
      "metadata": {
        "colab": {
          "base_uri": "https://localhost:8080/"
        },
        "id": "LaPjC63GfUWs",
        "outputId": "20465b8c-5312-4e94-f731-b648840fecff"
      },
      "source": [
        "#vendo o preço dos bairos, na média \n",
        "\n",
        "df_clean.groupby(['neighbourhood']).price.mean().sort_values(ascending=False)[:10]"
      ],
      "execution_count": null,
      "outputs": [
        {
          "output_type": "execute_result",
          "data": {
            "text/plain": [
              "neighbourhood\n",
              "Alberoni             200.968750\n",
              "Isola San Giorgio    200.000000\n",
              "Tronchetto           174.200000\n",
              "Torcello             165.000000\n",
              "San Marco            153.697905\n",
              "Dorsoduro            137.831793\n",
              "San Polo             132.978339\n",
              "Santa Croce          130.169708\n",
              "Case Dosa            125.000000\n",
              "Lido                 124.753165\n",
              "Name: price, dtype: float64"
            ]
          },
          "metadata": {},
          "execution_count": 16
        }
      ]
    },
    {
      "cell_type": "markdown",
      "metadata": {
        "id": "xzWYu0O_nB1q"
      },
      "source": [
        "Acima, vemos que os bairros como Alberoni, Malamocco e Lido, estão com a média de preços superior e muito menos presente a alguns lugares como san marco, considerado o bairro mais caro de veneza.\n",
        "\n",
        "uma pessoa que nao conhece-se veneza, poderia apresentar esses resultados adiquiridos até aqui sem questionamento por parte dela. só lhes dando um unico exemplo de como uma amostra pode ser não-representativa, veja quantas entradas há para Pellestrina."
      ]
    },
    {
      "cell_type": "code",
      "metadata": {
        "id": "J1F375Y_m9Vt",
        "colab": {
          "base_uri": "https://localhost:8080/",
          "height": 634
        },
        "outputId": "9a62a0bf-ca18-43da-f353-001eb40a6bd4"
      },
      "source": [
        "#ver a quantidade de imóveis disponiveis em Pellestrina.\n",
        "\n",
        "print(df_clean[df_clean.neighbourhood == \"Pellestrina\"].shape)\n",
        "\n",
        "#ver as 3 entradas de Castello.\n",
        "df_clean[df_clean.neighbourhood == \"Pellestrina\"]"
      ],
      "execution_count": null,
      "outputs": [
        {
          "output_type": "stream",
          "name": "stdout",
          "text": [
            "(5, 17)\n"
          ]
        },
        {
          "output_type": "execute_result",
          "data": {
            "text/html": [
              "\n",
              "  <div id=\"df-25da39c2-e16f-4e8e-8d26-7d2597521fc1\">\n",
              "    <div class=\"colab-df-container\">\n",
              "      <div>\n",
              "<style scoped>\n",
              "    .dataframe tbody tr th:only-of-type {\n",
              "        vertical-align: middle;\n",
              "    }\n",
              "\n",
              "    .dataframe tbody tr th {\n",
              "        vertical-align: top;\n",
              "    }\n",
              "\n",
              "    .dataframe thead th {\n",
              "        text-align: right;\n",
              "    }\n",
              "</style>\n",
              "<table border=\"1\" class=\"dataframe\">\n",
              "  <thead>\n",
              "    <tr style=\"text-align: right;\">\n",
              "      <th></th>\n",
              "      <th>id</th>\n",
              "      <th>name</th>\n",
              "      <th>host_id</th>\n",
              "      <th>host_name</th>\n",
              "      <th>neighbourhood</th>\n",
              "      <th>latitude</th>\n",
              "      <th>longitude</th>\n",
              "      <th>room_type</th>\n",
              "      <th>price</th>\n",
              "      <th>minimum_nights</th>\n",
              "      <th>number_of_reviews</th>\n",
              "      <th>last_review</th>\n",
              "      <th>reviews_per_month</th>\n",
              "      <th>calculated_host_listings_count</th>\n",
              "      <th>availability_365</th>\n",
              "      <th>number_of_reviews_ltm</th>\n",
              "      <th>license</th>\n",
              "    </tr>\n",
              "  </thead>\n",
              "  <tbody>\n",
              "    <tr>\n",
              "      <th>380</th>\n",
              "      <td>1513368</td>\n",
              "      <td>LIVE YOUR DREAMS in Pellestrina!</td>\n",
              "      <td>5521362</td>\n",
              "      <td>Davide</td>\n",
              "      <td>Pellestrina</td>\n",
              "      <td>45.28413</td>\n",
              "      <td>12.30365</td>\n",
              "      <td>Entire home/apt</td>\n",
              "      <td>60</td>\n",
              "      <td>2</td>\n",
              "      <td>149</td>\n",
              "      <td>2019-09-13</td>\n",
              "      <td>1.72</td>\n",
              "      <td>1</td>\n",
              "      <td>296</td>\n",
              "      <td>11</td>\n",
              "      <td>NaN</td>\n",
              "    </tr>\n",
              "    <tr>\n",
              "      <th>5274</th>\n",
              "      <td>37833769</td>\n",
              "      <td>Cosy and lovely place in Pellestrina</td>\n",
              "      <td>8889817</td>\n",
              "      <td>Costanza</td>\n",
              "      <td>Pellestrina</td>\n",
              "      <td>45.28175</td>\n",
              "      <td>12.30290</td>\n",
              "      <td>Entire home/apt</td>\n",
              "      <td>55</td>\n",
              "      <td>3</td>\n",
              "      <td>0</td>\n",
              "      <td>NaN</td>\n",
              "      <td>NaN</td>\n",
              "      <td>1</td>\n",
              "      <td>326</td>\n",
              "      <td>0</td>\n",
              "      <td>NaN</td>\n",
              "    </tr>\n",
              "    <tr>\n",
              "      <th>5869</th>\n",
              "      <td>43087830</td>\n",
              "      <td>Locanda Stravedo, camera con vista mozzafiato</td>\n",
              "      <td>163282708</td>\n",
              "      <td>Michele</td>\n",
              "      <td>Pellestrina</td>\n",
              "      <td>45.28625</td>\n",
              "      <td>12.30366</td>\n",
              "      <td>Private room</td>\n",
              "      <td>135</td>\n",
              "      <td>2</td>\n",
              "      <td>0</td>\n",
              "      <td>NaN</td>\n",
              "      <td>NaN</td>\n",
              "      <td>3</td>\n",
              "      <td>12</td>\n",
              "      <td>0</td>\n",
              "      <td>NaN</td>\n",
              "    </tr>\n",
              "    <tr>\n",
              "      <th>6438</th>\n",
              "      <td>48088593</td>\n",
              "      <td>Locanda Stravedo, camera con vista al piano terra</td>\n",
              "      <td>163282708</td>\n",
              "      <td>Michele</td>\n",
              "      <td>Pellestrina</td>\n",
              "      <td>45.28603</td>\n",
              "      <td>12.30383</td>\n",
              "      <td>Private room</td>\n",
              "      <td>125</td>\n",
              "      <td>2</td>\n",
              "      <td>1</td>\n",
              "      <td>2021-06-25</td>\n",
              "      <td>0.18</td>\n",
              "      <td>3</td>\n",
              "      <td>15</td>\n",
              "      <td>1</td>\n",
              "      <td>NaN</td>\n",
              "    </tr>\n",
              "    <tr>\n",
              "      <th>6646</th>\n",
              "      <td>49915867</td>\n",
              "      <td>Dimora Scarpa, abitazione tipica isolana</td>\n",
              "      <td>402515359</td>\n",
              "      <td>Alberta</td>\n",
              "      <td>Pellestrina</td>\n",
              "      <td>45.27439</td>\n",
              "      <td>12.30196</td>\n",
              "      <td>Entire home/apt</td>\n",
              "      <td>110</td>\n",
              "      <td>1</td>\n",
              "      <td>7</td>\n",
              "      <td>2021-05-30</td>\n",
              "      <td>1.12</td>\n",
              "      <td>1</td>\n",
              "      <td>1</td>\n",
              "      <td>7</td>\n",
              "      <td>NaN</td>\n",
              "    </tr>\n",
              "  </tbody>\n",
              "</table>\n",
              "</div>\n",
              "      <button class=\"colab-df-convert\" onclick=\"convertToInteractive('df-25da39c2-e16f-4e8e-8d26-7d2597521fc1')\"\n",
              "              title=\"Convert this dataframe to an interactive table.\"\n",
              "              style=\"display:none;\">\n",
              "        \n",
              "  <svg xmlns=\"http://www.w3.org/2000/svg\" height=\"24px\"viewBox=\"0 0 24 24\"\n",
              "       width=\"24px\">\n",
              "    <path d=\"M0 0h24v24H0V0z\" fill=\"none\"/>\n",
              "    <path d=\"M18.56 5.44l.94 2.06.94-2.06 2.06-.94-2.06-.94-.94-2.06-.94 2.06-2.06.94zm-11 1L8.5 8.5l.94-2.06 2.06-.94-2.06-.94L8.5 2.5l-.94 2.06-2.06.94zm10 10l.94 2.06.94-2.06 2.06-.94-2.06-.94-.94-2.06-.94 2.06-2.06.94z\"/><path d=\"M17.41 7.96l-1.37-1.37c-.4-.4-.92-.59-1.43-.59-.52 0-1.04.2-1.43.59L10.3 9.45l-7.72 7.72c-.78.78-.78 2.05 0 2.83L4 21.41c.39.39.9.59 1.41.59.51 0 1.02-.2 1.41-.59l7.78-7.78 2.81-2.81c.8-.78.8-2.07 0-2.86zM5.41 20L4 18.59l7.72-7.72 1.47 1.35L5.41 20z\"/>\n",
              "  </svg>\n",
              "      </button>\n",
              "      \n",
              "  <style>\n",
              "    .colab-df-container {\n",
              "      display:flex;\n",
              "      flex-wrap:wrap;\n",
              "      gap: 12px;\n",
              "    }\n",
              "\n",
              "    .colab-df-convert {\n",
              "      background-color: #E8F0FE;\n",
              "      border: none;\n",
              "      border-radius: 50%;\n",
              "      cursor: pointer;\n",
              "      display: none;\n",
              "      fill: #1967D2;\n",
              "      height: 32px;\n",
              "      padding: 0 0 0 0;\n",
              "      width: 32px;\n",
              "    }\n",
              "\n",
              "    .colab-df-convert:hover {\n",
              "      background-color: #E2EBFA;\n",
              "      box-shadow: 0px 1px 2px rgba(60, 64, 67, 0.3), 0px 1px 3px 1px rgba(60, 64, 67, 0.15);\n",
              "      fill: #174EA6;\n",
              "    }\n",
              "\n",
              "    [theme=dark] .colab-df-convert {\n",
              "      background-color: #3B4455;\n",
              "      fill: #D2E3FC;\n",
              "    }\n",
              "\n",
              "    [theme=dark] .colab-df-convert:hover {\n",
              "      background-color: #434B5C;\n",
              "      box-shadow: 0px 1px 3px 1px rgba(0, 0, 0, 0.15);\n",
              "      filter: drop-shadow(0px 1px 2px rgba(0, 0, 0, 0.3));\n",
              "      fill: #FFFFFF;\n",
              "    }\n",
              "  </style>\n",
              "\n",
              "      <script>\n",
              "        const buttonEl =\n",
              "          document.querySelector('#df-25da39c2-e16f-4e8e-8d26-7d2597521fc1 button.colab-df-convert');\n",
              "        buttonEl.style.display =\n",
              "          google.colab.kernel.accessAllowed ? 'block' : 'none';\n",
              "\n",
              "        async function convertToInteractive(key) {\n",
              "          const element = document.querySelector('#df-25da39c2-e16f-4e8e-8d26-7d2597521fc1');\n",
              "          const dataTable =\n",
              "            await google.colab.kernel.invokeFunction('convertToInteractive',\n",
              "                                                     [key], {});\n",
              "          if (!dataTable) return;\n",
              "\n",
              "          const docLinkHtml = 'Like what you see? Visit the ' +\n",
              "            '<a target=\"_blank\" href=https://colab.research.google.com/notebooks/data_table.ipynb>data table notebook</a>'\n",
              "            + ' to learn more about interactive tables.';\n",
              "          element.innerHTML = '';\n",
              "          dataTable['output_type'] = 'display_data';\n",
              "          await google.colab.output.renderOutput(dataTable, element);\n",
              "          const docLink = document.createElement('div');\n",
              "          docLink.innerHTML = docLinkHtml;\n",
              "          element.appendChild(docLink);\n",
              "        }\n",
              "      </script>\n",
              "    </div>\n",
              "  </div>\n",
              "  "
            ],
            "text/plain": [
              "            id  ... license\n",
              "380    1513368  ...     NaN\n",
              "5274  37833769  ...     NaN\n",
              "5869  43087830  ...     NaN\n",
              "6438  48088593  ...     NaN\n",
              "6646  49915867  ...     NaN\n",
              "\n",
              "[5 rows x 17 columns]"
            ]
          },
          "metadata": {},
          "execution_count": 17
        }
      ]
    },
    {
      "cell_type": "markdown",
      "metadata": {
        "id": "ExcvP9gNS7PQ"
      },
      "source": [
        "Como são fornecidoas as latitudes e longitudes para os imóveis, é possivel plotar cada ponto. Para isso, considera-se **`x=longitude`** e **`y=latitude`**"
      ]
    },
    {
      "cell_type": "code",
      "metadata": {
        "colab": {
          "base_uri": "https://localhost:8080/",
          "height": 494
        },
        "id": "pCsshOuTTV83",
        "outputId": "4e7a97c4-6c30-4150-cd5b-778d4072234a"
      },
      "source": [
        "#plotar os imóveis pela latitude e longitude\n",
        "\n",
        "df_clean.plot(kind=\"scatter\", x='longitude', y='latitude', alpha=0.4, c=df_clean['price'], s=8, cmap=plt.get_cmap('jet'), figsize=(12,8))\n"
      ],
      "execution_count": null,
      "outputs": [
        {
          "output_type": "execute_result",
          "data": {
            "text/plain": [
              "<matplotlib.axes._subplots.AxesSubplot at 0x7f96efae9c50>"
            ]
          },
          "metadata": {},
          "execution_count": 18
        },
        {
          "output_type": "display_data",
          "data": {
            "image/png": "[encoded data removed]",
            "text/plain": [
              "<Figure size 864x576 with 2 Axes>"
            ]
          },
          "metadata": {
            "needs_background": "light"
          }
        }
      ]
    },
    {
      "cell_type": "markdown",
      "metadata": {
        "id": "xHcqTjWEVd7S"
      },
      "source": [
        "# ***conclusão***\n",
        "\n",
        "Foram feitas apenas análises superficiais na base de dados extraido da plataforma AIRBNB, porem já se percebeu que existe outliers em algumas variaveis.\n",
        "\n",
        "Também foi possivel analizar que em algumas localidades há uma certa quantia inferior de imóveis referente ao total comum em outras localidades, culminando em uma distorção consideravel nos rezultados obtidos por meio desta pesquisa.\n",
        "\n",
        "Outrossim, vejo que as ferramentas disponibilizadas pela forma de linguagem denominada python se apresenta relativamente expantosa aos olhos de um iniciante, possivelmente lhe amedrontando em questões de má doutrinação desta ferramenta. python é uma linguagem a qual nos abdica muito tempo de dedicação, demandando muito carga cognitiva sobre seus scripts, nos sobrecarregando com seus detalhes meramente estéticos em uma primeira visão, mas vista por uma pessoa mais lucida no assunto, tais detalhes são o que diferencia o Norte do Sul. Portanto, o empenho em dominar tais linguagens de comiunicação entre ***Ser*** e ***Maquina*** são complexos, mas consideravelmente importantes e uteis."
      ]
    }
  ]
}